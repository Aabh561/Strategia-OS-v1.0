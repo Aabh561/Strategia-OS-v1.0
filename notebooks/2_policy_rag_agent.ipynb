{
 "cells": [
  {
   "cell_type": "code",
   "execution_count": null,
   "id": "406c67ca",
   "metadata": {
    "vscode": {
     "languageId": "plaintext"
    }
   },
   "outputs": [],
   "source": [
    "from src.rag.rag_pipeline import build_vectorstore\n",
    "from langchain.chains import RetrievalQA\n",
    "from langchain.llms import Ollama\n",
    "\n",
    "pdf_path = \"docs/enterprise_policy.pdf\"\n",
    "vectordb = build_vectorstore(pdf_path)\n",
    "\n",
    "llm = Ollama(model=\"mistral\")\n",
    "qa = RetrievalQA.from_chain_type(llm=llm, retriever=vectordb.as_retriever())\n",
    "\n",
    "question = \"What is the company’s harassment reporting procedure?\"\n",
    "answer = qa.run(question)\n",
    "\n",
    "print(\"Answer:\", answer)\n"
   ]
  }
 ],
 "metadata": {
  "language_info": {
   "name": "python"
  }
 },
 "nbformat": 4,
 "nbformat_minor": 5
}
