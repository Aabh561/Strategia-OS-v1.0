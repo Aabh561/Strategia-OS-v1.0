{
 "cells": [
  {
   "cell_type": "code",
   "execution_count": null,
   "id": "afdd3f0a",
   "metadata": {
    "vscode": {
     "languageId": "plaintext"
    }
   },
   "outputs": [],
   "source": [
    "from src.agents.data_agent import run_data_agent\n",
    "insights = run_data_agent(\"data/raw/sample_support_chats.csv\")\n",
    "print(insights)\n",
    "\n"
   ]
  }
 ],
 "metadata": {
  "language_info": {
   "name": "python"
  }
 },
 "nbformat": 4,
 "nbformat_minor": 5
}
